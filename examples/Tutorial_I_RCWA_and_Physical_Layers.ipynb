{
  "cells": [
    {
      "cell_type": "markdown",
      "metadata": {
        "id": "view-in-github",
        "colab_type": "text"
      },
      "source": [
        "<a href=\"https://colab.research.google.com/github/DeanHazineh/DFlat/blob/main/examples/Tutorial_I_RCWA_and_Physical_Layers.ipynb\" target=\"_parent\"><img src=\"https://colab.research.google.com/assets/colab-badge.svg\" alt=\"Open In Colab\"/></a>"
      ]
    },
    {
      "cell_type": "markdown",
      "metadata": {
        "id": "rfCYro4LcJON"
      },
      "source": [
        "This script provides a simple example for how to use the RCWA solver and simulate a field. We also show how to explicitly call for the gradients.\n",
        "\n",
        "This type of implementation is done in the backend of the rcwa_layer calls but it is certainly useful to know how to implement your own version for exploring new studies and shape spaces.\n",
        "\n",
        "To avoid writing boilerplate code for standard cell features, the RCWA_layer (reviewed in this tutorial) lets you immedietly optimize precoded cell types in batch (e.g. a collection of NxM cells). As it inherits from the Keras architecture, it can be immediently linked to standard Keras Deep Learning modules.\n",
        "\n",
        "The original code for the RCWA calculation was created and released by S. Colburn and Arka Majumdar (https://www.nature.com/articles/s42005-021-00568-6)\n",
        "\n"
      ]
    },
    {
      "cell_type": "markdown",
      "metadata": {
        "id": "jXGI4E7AapA4"
      },
      "source": [
        "# Clone D$\\flat$ Repository and Install"
      ]
    },
    {
      "cell_type": "markdown",
      "metadata": {
        "id": "KIsBRhoBb4uB"
      },
      "source": [
        "D$\\flat$ is a relatively large package as it contains raw data files for nanocell libraries and pre-trained neural models. It may take a few minutes to download"
      ]
    },
    {
      "cell_type": "code",
      "execution_count": null,
      "metadata": {
        "colab": {
          "base_uri": "https://localhost:8080/"
        },
        "id": "hczCAsiNad-G",
        "outputId": "8e5e83ac-2833-40bd-a239-0c410c4d6cf4"
      },
      "outputs": [
        {
          "output_type": "stream",
          "name": "stdout",
          "text": [
            "Error: Failed to call git rev-parse --git-dir: exit status 128 \n",
            "Git LFS initialized.\n",
            "Cloning into 'DFlat'...\n",
            "remote: Enumerating objects: 3027, done.\u001b[K\n",
            "remote: Counting objects: 100% (50/50), done.\u001b[K\n",
            "remote: Compressing objects: 100% (28/28), done.\u001b[K\n",
            "remote: Total 3027 (delta 29), reused 30 (delta 22), pack-reused 2977\u001b[K\n",
            "Receiving objects: 100% (3027/3027), 765.38 MiB | 22.42 MiB/s, done.\n",
            "Resolving deltas: 100% (1085/1085), done.\n",
            "Updating files: 100% (336/336), done.\n",
            "Filtering content: 100% (19/19), 77.20 MiB | 64.85 MiB/s, done.\n",
            "/content/DFlat\n",
            "running develop\n",
            "running egg_info\n",
            "creating DFlat.egg-info\n",
            "writing DFlat.egg-info/PKG-INFO\n",
            "writing dependency_links to DFlat.egg-info/dependency_links.txt\n",
            "writing top-level names to DFlat.egg-info/top_level.txt\n",
            "writing manifest file 'DFlat.egg-info/SOURCES.txt'\n",
            "reading manifest file 'DFlat.egg-info/SOURCES.txt'\n",
            "reading manifest template 'MANIFEST.in'\n",
            "adding license file 'LICENSE'\n",
            "writing manifest file 'DFlat.egg-info/SOURCES.txt'\n",
            "running build_ext\n",
            "Creating /usr/local/lib/python3.8/dist-packages/DFlat.egg-link (link to .)\n",
            "Adding DFlat 2.3.0 to easy-install.pth file\n",
            "\n",
            "Installed /content/DFlat\n",
            "Processing dependencies for DFlat==2.3.0\n",
            "Finished processing dependencies for DFlat==2.3.0\n"
          ]
        }
      ],
      "source": [
        "!git lfs install\n",
        "!git clone https://github.com/DeanHazineh/DFlat\n",
        "\n",
        "%cd /content/DFlat\n",
        "!python setup.py develop"
      ]
    },
    {
      "cell_type": "code",
      "execution_count": null,
      "metadata": {
        "colab": {
          "base_uri": "https://localhost:8080/"
        },
        "id": "KmbTxkWMamzz",
        "outputId": "7ad98740-0535-4424-e631-236496a7f561"
      },
      "outputs": [
        {
          "output_type": "stream",
          "name": "stdout",
          "text": [
            "Looking in indexes: https://pypi.org/simple, https://us-python.pkg.dev/colab-wheels/public/simple/\n",
            "Requirement already satisfied: scikit-learn in /usr/local/lib/python3.8/dist-packages (from -r requirements.txt (line 1)) (1.0.2)\n",
            "Requirement already satisfied: numpy in /usr/local/lib/python3.8/dist-packages (from -r requirements.txt (line 2)) (1.21.6)\n",
            "Collecting tensorflow_gpu==2.11.0\n",
            "  Downloading tensorflow_gpu-2.11.0-cp38-cp38-manylinux_2_17_x86_64.manylinux2014_x86_64.whl (588.3 MB)\n",
            "\u001b[2K     \u001b[90m━━━━━━━━━━━━━━━━━━━━━━━━━━━━━━━━━━━━━━━\u001b[0m \u001b[32m588.3/588.3 MB\u001b[0m \u001b[31m2.9 MB/s\u001b[0m eta \u001b[36m0:00:00\u001b[0m\n",
            "\u001b[?25hRequirement already satisfied: tensorflow_probability in /usr/local/lib/python3.8/dist-packages (from -r requirements.txt (line 4)) (0.17.0)\n",
            "Requirement already satisfied: matplotlib in /usr/local/lib/python3.8/dist-packages (from -r requirements.txt (line 5)) (3.2.2)\n",
            "Requirement already satisfied: scipy in /usr/local/lib/python3.8/dist-packages (from -r requirements.txt (line 6)) (1.7.3)\n",
            "Collecting keras_flops\n",
            "  Downloading keras_flops-0.1.2-py3-none-any.whl (5.3 kB)\n",
            "Collecting mat73\n",
            "  Downloading mat73-0.60-py3-none-any.whl (19 kB)\n",
            "Requirement already satisfied: opencv-python in /usr/local/lib/python3.8/dist-packages (from -r requirements.txt (line 9)) (4.6.0.66)\n",
            "Requirement already satisfied: pandas in /usr/local/lib/python3.8/dist-packages (from -r requirements.txt (line 10)) (1.3.5)\n",
            "Collecting gdspy\n",
            "  Downloading gdspy-1.6.12.zip (157 kB)\n",
            "\u001b[2K     \u001b[90m━━━━━━━━━━━━━━━━━━━━━━━━━━━━━━━━━━━━━━\u001b[0m \u001b[32m157.7/157.7 KB\u001b[0m \u001b[31m14.7 MB/s\u001b[0m eta \u001b[36m0:00:00\u001b[0m\n",
            "\u001b[?25h  Preparing metadata (setup.py) ... \u001b[?25l\u001b[?25hdone\n",
            "Requirement already satisfied: imageio in /usr/local/lib/python3.8/dist-packages (from -r requirements.txt (line 12)) (2.9.0)\n",
            "Requirement already satisfied: tqdm in /usr/local/lib/python3.8/dist-packages (from -r requirements.txt (line 13)) (4.64.1)\n",
            "Requirement already satisfied: h5py>=2.9.0 in /usr/local/lib/python3.8/dist-packages (from tensorflow_gpu==2.11.0->-r requirements.txt (line 3)) (3.1.0)\n",
            "Collecting flatbuffers>=2.0\n",
            "  Downloading flatbuffers-23.1.21-py2.py3-none-any.whl (26 kB)\n",
            "Requirement already satisfied: astunparse>=1.6.0 in /usr/local/lib/python3.8/dist-packages (from tensorflow_gpu==2.11.0->-r requirements.txt (line 3)) (1.6.3)\n",
            "Requirement already satisfied: protobuf<3.20,>=3.9.2 in /usr/local/lib/python3.8/dist-packages (from tensorflow_gpu==2.11.0->-r requirements.txt (line 3)) (3.19.6)\n",
            "Requirement already satisfied: termcolor>=1.1.0 in /usr/local/lib/python3.8/dist-packages (from tensorflow_gpu==2.11.0->-r requirements.txt (line 3)) (2.2.0)\n",
            "Requirement already satisfied: setuptools in /usr/local/lib/python3.8/dist-packages (from tensorflow_gpu==2.11.0->-r requirements.txt (line 3)) (57.4.0)\n",
            "Requirement already satisfied: grpcio<2.0,>=1.24.3 in /usr/local/lib/python3.8/dist-packages (from tensorflow_gpu==2.11.0->-r requirements.txt (line 3)) (1.51.1)\n",
            "Requirement already satisfied: wrapt>=1.11.0 in /usr/local/lib/python3.8/dist-packages (from tensorflow_gpu==2.11.0->-r requirements.txt (line 3)) (1.14.1)\n",
            "Collecting tensorflow-estimator<2.12,>=2.11.0\n",
            "  Downloading tensorflow_estimator-2.11.0-py2.py3-none-any.whl (439 kB)\n",
            "\u001b[2K     \u001b[90m━━━━━━━━━━━━━━━━━━━━━━━━━━━━━━━━━━━━━━\u001b[0m \u001b[32m439.2/439.2 KB\u001b[0m \u001b[31m44.0 MB/s\u001b[0m eta \u001b[36m0:00:00\u001b[0m\n",
            "\u001b[?25hRequirement already satisfied: tensorflow-io-gcs-filesystem>=0.23.1 in /usr/local/lib/python3.8/dist-packages (from tensorflow_gpu==2.11.0->-r requirements.txt (line 3)) (0.30.0)\n",
            "Requirement already satisfied: gast<=0.4.0,>=0.2.1 in /usr/local/lib/python3.8/dist-packages (from tensorflow_gpu==2.11.0->-r requirements.txt (line 3)) (0.4.0)\n",
            "Requirement already satisfied: typing-extensions>=3.6.6 in /usr/local/lib/python3.8/dist-packages (from tensorflow_gpu==2.11.0->-r requirements.txt (line 3)) (4.4.0)\n",
            "Requirement already satisfied: six>=1.12.0 in /usr/local/lib/python3.8/dist-packages (from tensorflow_gpu==2.11.0->-r requirements.txt (line 3)) (1.15.0)\n",
            "Collecting keras<2.12,>=2.11.0\n",
            "  Downloading keras-2.11.0-py2.py3-none-any.whl (1.7 MB)\n",
            "\u001b[2K     \u001b[90m━━━━━━━━━━━━━━━━━━━━━━━━━━━━━━━━━━━━━━━━\u001b[0m \u001b[32m1.7/1.7 MB\u001b[0m \u001b[31m85.5 MB/s\u001b[0m eta \u001b[36m0:00:00\u001b[0m\n",
            "\u001b[?25hRequirement already satisfied: opt-einsum>=2.3.2 in /usr/local/lib/python3.8/dist-packages (from tensorflow_gpu==2.11.0->-r requirements.txt (line 3)) (3.3.0)\n",
            "Collecting tensorboard<2.12,>=2.11\n",
            "  Downloading tensorboard-2.11.2-py3-none-any.whl (6.0 MB)\n",
            "\u001b[2K     \u001b[90m━━━━━━━━━━━━━━━━━━━━━━━━━━━━━━━━━━━━━━━━\u001b[0m \u001b[32m6.0/6.0 MB\u001b[0m \u001b[31m65.3 MB/s\u001b[0m eta \u001b[36m0:00:00\u001b[0m\n",
            "\u001b[?25hRequirement already satisfied: packaging in /usr/local/lib/python3.8/dist-packages (from tensorflow_gpu==2.11.0->-r requirements.txt (line 3)) (23.0)\n",
            "Requirement already satisfied: google-pasta>=0.1.1 in /usr/local/lib/python3.8/dist-packages (from tensorflow_gpu==2.11.0->-r requirements.txt (line 3)) (0.2.0)\n",
            "Requirement already satisfied: libclang>=13.0.0 in /usr/local/lib/python3.8/dist-packages (from tensorflow_gpu==2.11.0->-r requirements.txt (line 3)) (15.0.6.1)\n",
            "Requirement already satisfied: absl-py>=1.0.0 in /usr/local/lib/python3.8/dist-packages (from tensorflow_gpu==2.11.0->-r requirements.txt (line 3)) (1.4.0)\n",
            "Requirement already satisfied: joblib>=0.11 in /usr/local/lib/python3.8/dist-packages (from scikit-learn->-r requirements.txt (line 1)) (1.2.0)\n",
            "Requirement already satisfied: threadpoolctl>=2.0.0 in /usr/local/lib/python3.8/dist-packages (from scikit-learn->-r requirements.txt (line 1)) (3.1.0)\n",
            "Requirement already satisfied: dm-tree in /usr/local/lib/python3.8/dist-packages (from tensorflow_probability->-r requirements.txt (line 4)) (0.1.8)\n",
            "Requirement already satisfied: cloudpickle>=1.3 in /usr/local/lib/python3.8/dist-packages (from tensorflow_probability->-r requirements.txt (line 4)) (2.2.1)\n",
            "Requirement already satisfied: decorator in /usr/local/lib/python3.8/dist-packages (from tensorflow_probability->-r requirements.txt (line 4)) (4.4.2)\n",
            "Requirement already satisfied: kiwisolver>=1.0.1 in /usr/local/lib/python3.8/dist-packages (from matplotlib->-r requirements.txt (line 5)) (1.4.4)\n",
            "Requirement already satisfied: cycler>=0.10 in /usr/local/lib/python3.8/dist-packages (from matplotlib->-r requirements.txt (line 5)) (0.11.0)\n",
            "Requirement already satisfied: python-dateutil>=2.1 in /usr/local/lib/python3.8/dist-packages (from matplotlib->-r requirements.txt (line 5)) (2.8.2)\n",
            "Requirement already satisfied: pyparsing!=2.0.4,!=2.1.2,!=2.1.6,>=2.0.1 in /usr/local/lib/python3.8/dist-packages (from matplotlib->-r requirements.txt (line 5)) (3.0.9)\n",
            "Requirement already satisfied: tensorflow<3.0,>=2.2 in /usr/local/lib/python3.8/dist-packages (from keras_flops->-r requirements.txt (line 7)) (2.9.2)\n",
            "Requirement already satisfied: pytz>=2017.3 in /usr/local/lib/python3.8/dist-packages (from pandas->-r requirements.txt (line 10)) (2022.7.1)\n",
            "Requirement already satisfied: pillow in /usr/local/lib/python3.8/dist-packages (from imageio->-r requirements.txt (line 12)) (7.1.2)\n",
            "Requirement already satisfied: wheel<1.0,>=0.23.0 in /usr/local/lib/python3.8/dist-packages (from astunparse>=1.6.0->tensorflow_gpu==2.11.0->-r requirements.txt (line 3)) (0.38.4)\n",
            "Requirement already satisfied: requests<3,>=2.21.0 in /usr/local/lib/python3.8/dist-packages (from tensorboard<2.12,>=2.11->tensorflow_gpu==2.11.0->-r requirements.txt (line 3)) (2.25.1)\n",
            "Requirement already satisfied: werkzeug>=1.0.1 in /usr/local/lib/python3.8/dist-packages (from tensorboard<2.12,>=2.11->tensorflow_gpu==2.11.0->-r requirements.txt (line 3)) (1.0.1)\n",
            "Requirement already satisfied: google-auth-oauthlib<0.5,>=0.4.1 in /usr/local/lib/python3.8/dist-packages (from tensorboard<2.12,>=2.11->tensorflow_gpu==2.11.0->-r requirements.txt (line 3)) (0.4.6)\n",
            "Requirement already satisfied: tensorboard-data-server<0.7.0,>=0.6.0 in /usr/local/lib/python3.8/dist-packages (from tensorboard<2.12,>=2.11->tensorflow_gpu==2.11.0->-r requirements.txt (line 3)) (0.6.1)\n",
            "Requirement already satisfied: tensorboard-plugin-wit>=1.6.0 in /usr/local/lib/python3.8/dist-packages (from tensorboard<2.12,>=2.11->tensorflow_gpu==2.11.0->-r requirements.txt (line 3)) (1.8.1)\n",
            "Requirement already satisfied: markdown>=2.6.8 in /usr/local/lib/python3.8/dist-packages (from tensorboard<2.12,>=2.11->tensorflow_gpu==2.11.0->-r requirements.txt (line 3)) (3.4.1)\n",
            "Requirement already satisfied: google-auth<3,>=1.6.3 in /usr/local/lib/python3.8/dist-packages (from tensorboard<2.12,>=2.11->tensorflow_gpu==2.11.0->-r requirements.txt (line 3)) (2.16.0)\n",
            "Collecting tensorflow<3.0,>=2.2\n",
            "  Downloading tensorflow-2.11.0-cp38-cp38-manylinux_2_17_x86_64.manylinux2014_x86_64.whl (588.3 MB)\n",
            "\u001b[2K     \u001b[90m━━━━━━━━━━━━━━━━━━━━━━━━━━━━━━━━━━━━━━━\u001b[0m \u001b[32m588.3/588.3 MB\u001b[0m \u001b[31m2.8 MB/s\u001b[0m eta \u001b[36m0:00:00\u001b[0m\n",
            "\u001b[?25hRequirement already satisfied: cachetools<6.0,>=2.0.0 in /usr/local/lib/python3.8/dist-packages (from google-auth<3,>=1.6.3->tensorboard<2.12,>=2.11->tensorflow_gpu==2.11.0->-r requirements.txt (line 3)) (5.3.0)\n",
            "Requirement already satisfied: pyasn1-modules>=0.2.1 in /usr/local/lib/python3.8/dist-packages (from google-auth<3,>=1.6.3->tensorboard<2.12,>=2.11->tensorflow_gpu==2.11.0->-r requirements.txt (line 3)) (0.2.8)\n",
            "Requirement already satisfied: rsa<5,>=3.1.4 in /usr/local/lib/python3.8/dist-packages (from google-auth<3,>=1.6.3->tensorboard<2.12,>=2.11->tensorflow_gpu==2.11.0->-r requirements.txt (line 3)) (4.9)\n",
            "Requirement already satisfied: requests-oauthlib>=0.7.0 in /usr/local/lib/python3.8/dist-packages (from google-auth-oauthlib<0.5,>=0.4.1->tensorboard<2.12,>=2.11->tensorflow_gpu==2.11.0->-r requirements.txt (line 3)) (1.3.1)\n",
            "Requirement already satisfied: importlib-metadata>=4.4 in /usr/local/lib/python3.8/dist-packages (from markdown>=2.6.8->tensorboard<2.12,>=2.11->tensorflow_gpu==2.11.0->-r requirements.txt (line 3)) (6.0.0)\n",
            "Requirement already satisfied: idna<3,>=2.5 in /usr/local/lib/python3.8/dist-packages (from requests<3,>=2.21.0->tensorboard<2.12,>=2.11->tensorflow_gpu==2.11.0->-r requirements.txt (line 3)) (2.10)\n",
            "Requirement already satisfied: urllib3<1.27,>=1.21.1 in /usr/local/lib/python3.8/dist-packages (from requests<3,>=2.21.0->tensorboard<2.12,>=2.11->tensorflow_gpu==2.11.0->-r requirements.txt (line 3)) (1.24.3)\n",
            "Requirement already satisfied: chardet<5,>=3.0.2 in /usr/local/lib/python3.8/dist-packages (from requests<3,>=2.21.0->tensorboard<2.12,>=2.11->tensorflow_gpu==2.11.0->-r requirements.txt (line 3)) (4.0.0)\n",
            "Requirement already satisfied: certifi>=2017.4.17 in /usr/local/lib/python3.8/dist-packages (from requests<3,>=2.21.0->tensorboard<2.12,>=2.11->tensorflow_gpu==2.11.0->-r requirements.txt (line 3)) (2022.12.7)\n",
            "Requirement already satisfied: zipp>=0.5 in /usr/local/lib/python3.8/dist-packages (from importlib-metadata>=4.4->markdown>=2.6.8->tensorboard<2.12,>=2.11->tensorflow_gpu==2.11.0->-r requirements.txt (line 3)) (3.12.0)\n",
            "Requirement already satisfied: pyasn1<0.5.0,>=0.4.6 in /usr/local/lib/python3.8/dist-packages (from pyasn1-modules>=0.2.1->google-auth<3,>=1.6.3->tensorboard<2.12,>=2.11->tensorflow_gpu==2.11.0->-r requirements.txt (line 3)) (0.4.8)\n",
            "Requirement already satisfied: oauthlib>=3.0.0 in /usr/local/lib/python3.8/dist-packages (from requests-oauthlib>=0.7.0->google-auth-oauthlib<0.5,>=0.4.1->tensorboard<2.12,>=2.11->tensorflow_gpu==2.11.0->-r requirements.txt (line 3)) (3.2.2)\n",
            "Building wheels for collected packages: gdspy\n",
            "  Building wheel for gdspy (setup.py) ... \u001b[?25l\u001b[?25hdone\n",
            "  Created wheel for gdspy: filename=gdspy-1.6.12-cp38-cp38-linux_x86_64.whl size=597224 sha256=ae14379aea251c368ee6c791ddef80e583c6cff5fc73931f18e78025f712b19b\n",
            "  Stored in directory: /root/.cache/pip/wheels/03/ed/d5/f89483da9ebf5b67e58ba967e19132ae7703a6409727790445\n",
            "Successfully built gdspy\n",
            "Installing collected packages: flatbuffers, tensorflow-estimator, keras, gdspy, mat73, tensorboard, tensorflow_gpu, tensorflow, keras_flops\n",
            "  Attempting uninstall: flatbuffers\n",
            "    Found existing installation: flatbuffers 1.12\n",
            "    Uninstalling flatbuffers-1.12:\n",
            "      Successfully uninstalled flatbuffers-1.12\n",
            "  Attempting uninstall: tensorflow-estimator\n",
            "    Found existing installation: tensorflow-estimator 2.9.0\n",
            "    Uninstalling tensorflow-estimator-2.9.0:\n",
            "      Successfully uninstalled tensorflow-estimator-2.9.0\n",
            "  Attempting uninstall: keras\n",
            "    Found existing installation: keras 2.9.0\n",
            "    Uninstalling keras-2.9.0:\n",
            "      Successfully uninstalled keras-2.9.0\n",
            "  Attempting uninstall: tensorboard\n",
            "    Found existing installation: tensorboard 2.9.1\n",
            "    Uninstalling tensorboard-2.9.1:\n",
            "      Successfully uninstalled tensorboard-2.9.1\n",
            "  Attempting uninstall: tensorflow\n",
            "    Found existing installation: tensorflow 2.9.2\n",
            "    Uninstalling tensorflow-2.9.2:\n",
            "      Successfully uninstalled tensorflow-2.9.2\n",
            "Successfully installed flatbuffers-23.1.21 gdspy-1.6.12 keras-2.11.0 keras_flops-0.1.2 mat73-0.60 tensorboard-2.11.2 tensorflow-2.11.0 tensorflow-estimator-2.11.0 tensorflow_gpu-2.11.0\n"
          ]
        }
      ],
      "source": [
        "pip install -r requirements.txt"
      ]
    },
    {
      "cell_type": "markdown",
      "metadata": {
        "id": "1ig0YnVAfZkI"
      },
      "source": [
        "# Run a RCWA Simulation"
      ]
    },
    {
      "cell_type": "code",
      "execution_count": null,
      "metadata": {
        "id": "6JCWmLDYfcVq"
      },
      "outputs": [],
      "source": [
        "import numpy as np\n",
        "import tensorflow as tf\n",
        "import matplotlib.pyplot as plt\n",
        "\n",
        "import dflat.physical_optical_layer as df_physical\n",
        "import dflat.data_structure as df_struct"
      ]
    },
    {
      "cell_type": "markdown",
      "metadata": {
        "id": "oqI5LYUnfsMB"
      },
      "source": [
        "To run a simulation, first we need to create the RCWA solver parameters object. Here, you specify the material used and the params object will internally grab and store the broadband, complex refractive index into its class attributes. \n",
        "\n",
        "You can specify a material from the list below or you can pass in a complex, float instead. "
      ]
    },
    {
      "cell_type": "code",
      "execution_count": null,
      "metadata": {
        "colab": {
          "base_uri": "https://localhost:8080/"
        },
        "id": "yVWmBAayfjvd",
        "outputId": "58d2d128-c7b9-49df-fd78-3c6659d4399e"
      },
      "outputs": [
        {
          "output_type": "execute_result",
          "data": {
            "text/plain": [
              "['TiO2', 'SiO2', 'Vacuum', 'Si', 'Si3N4']"
            ]
          },
          "metadata": {},
          "execution_count": 4
        }
      ],
      "source": [
        "df_physical.list_materials()"
      ]
    },
    {
      "cell_type": "code",
      "execution_count": null,
      "metadata": {
        "id": "8h6XpeIefmo0"
      },
      "outputs": [],
      "source": [
        "wavelength_set_m = np.arange(400e-9, 750e-9, 10e-9)\n",
        "fourier_modes = 7\n",
        "rcwa_parameters = df_struct.rcwa_params(\n",
        "    {\n",
        "        \"wavelength_set_m\": wavelength_set_m,\n",
        "        \"thetas\": [0.0 for i in wavelength_set_m],\n",
        "        \"phis\": [0.0 for i in wavelength_set_m],\n",
        "        \"pte\": [1.0 for i in wavelength_set_m],\n",
        "        \"ptm\": [1.0 for i in wavelength_set_m],\n",
        "        \"pixelsX\": 1,\n",
        "        \"pixelsY\": 1,\n",
        "        \"PQ\": [fourier_modes, fourier_modes],\n",
        "        \"Lx\": 350e-9,\n",
        "        \"Ly\": 350e-9,\n",
        "        \"L\": [650.0e-9],\n",
        "        \"Lay_mat\": [\"Vacuum\"],\n",
        "        \"material_dielectric\": \"TiO2\",\n",
        "        \"er1\": \"SiO2\",\n",
        "        \"er2\": \"Vacuum\",\n",
        "        \"Nx\": 512,\n",
        "        \"Ny\": 512\n",
        "    }\n",
        ")"
      ]
    },
    {
      "cell_type": "markdown",
      "metadata": {
        "id": "iVYLE6_hgpH7"
      },
      "source": [
        "Now, let us write our own solver function from scratch. The goal is that we may pass in the rcwa_parameters and a binary_mask representing the nanostructure on the cell. This function can then inject the correct permittivity values (stored in rcwa_parameters as key \"erd\" for the specified material_dielectric) and call the rcwa_solver.  \n",
        "\n",
        "In this example I am only simulating a single layer but I have written the function with an open mind to enable multi-layer with minimal modifications (it is a good practice to do so!)"
      ]
    },
    {
      "cell_type": "code",
      "execution_count": null,
      "metadata": {
        "id": "FSGJrjXYgZxF"
      },
      "outputs": [],
      "source": [
        "def rcwa_calc_field(rcwa_parameters, binary_mask):\n",
        "    ###\n",
        "    batchSize = rcwa_parameters[\"batchSize\"]\n",
        "    pixelsX = rcwa_parameters[\"pixelsX\"]\n",
        "    pixelsY = rcwa_parameters[\"pixelsY\"]\n",
        "    Nx = rcwa_parameters[\"Nx\"]\n",
        "    Ny = rcwa_parameters[\"Ny\"]\n",
        "    Nlay = rcwa_parameters[\"Nlay\"]\n",
        "    dtype = rcwa_parameters[\"dtype\"]\n",
        "    cdtype = rcwa_parameters[\"cdtype\"]\n",
        "\n",
        "    materials_shape = (batchSize, pixelsX, pixelsY, Nlay, Nx, Ny)\n",
        "    PQ_zero = tf.math.reduce_prod(rcwa_parameters[\"PQ\"]) // 2\n",
        "    lay_eps_list = rcwa_parameters[\"lay_eps_list\"]\n",
        "\n",
        "    # Assemble cell\n",
        "    binary = tf.complex(tf.cast(binary_mask, dtype=dtype), tf.cast(0.0, dtype=dtype))\n",
        "    UR = rcwa_parameters[\"urd\"] * tf.ones(materials_shape, dtype=cdtype)\n",
        "    ER_list = []\n",
        "    for i, lay_eps in enumerate(lay_eps_list):\n",
        "        ER_list.append(lay_eps_list[i] + (rcwa_parameters[\"erd\"] - lay_eps_list[i]) * binary[i])\n",
        "    ER = tf.concat(values=ER_list, axis=3)\n",
        "\n",
        "    ## Call Simulation\n",
        "    outputs = df_physical.simulate(ER, UR, rcwa_parameters)\n",
        "    tx = outputs[\"tx\"][:, :, :, PQ_zero, 0] # Get the zero order field by PQ_zero\n",
        "    ty = outputs[\"ty\"][:, :, :, PQ_zero, 0] \n",
        "    field = tf.expand_dims(tf.transpose(tf.stack((tx, ty))), 0)\n",
        "\n",
        "    return field"
      ]
    },
    {
      "cell_type": "markdown",
      "metadata": {
        "id": "wFnipCDehYQ1"
      },
      "source": [
        "Now let us define a simple cell structure and ideally assemble the structure in a way that is differentiable. Then we can obtain gradients later. "
      ]
    },
    {
      "cell_type": "code",
      "execution_count": null,
      "metadata": {
        "id": "UJxdWlT4hh5Q"
      },
      "outputs": [],
      "source": [
        "def make_nanofin_mask(rcwa_parameters, finx, finy):\n",
        "  # Create a grid\n",
        "  Nx, Ny = rcwa_parameters[\"Nx\"], rcwa_parameters[\"Ny\"]\n",
        "  Lx, Ly = rcwa_parameters[\"Lx\"], rcwa_parameters[\"Ly\"]\n",
        "  xx, yy = np.meshgrid(np.linspace(-Lx/2, Lx/2, Nx), np.linspace(-Ly/2, Ly/2, Ny))\n",
        "\n",
        "  power_exp = 50\n",
        "  sigmoid_coeff=1000\n",
        "  mask = 1 - tf.math.abs(xx * 2 / finx) ** power_exp - tf.math.abs(yy * 2 / finy) ** power_exp\n",
        "  mask = tf.math.sigmoid(sigmoid_coeff * mask)\n",
        "\n",
        "  return tf.expand_dims(mask,0)"
      ]
    },
    {
      "cell_type": "code",
      "execution_count": null,
      "metadata": {
        "colab": {
          "base_uri": "https://localhost:8080/",
          "height": 286
        },
        "id": "ILHye93sivPd",
        "outputId": "50a7f83b-3c51-4924-8305-31ca8554bb4e"
      },
      "outputs": [
        {
          "output_type": "execute_result",
          "data": {
            "text/plain": [
              "<matplotlib.image.AxesImage at 0x7f874b1d1fa0>"
            ]
          },
          "metadata": {},
          "execution_count": 8
        },
        {
          "output_type": "display_data",
          "data": {
            "text/plain": [
              "<Figure size 432x288 with 1 Axes>"
            ],
            "image/png": "[encoded data removed]"
          },
          "metadata": {
            "needs_background": "light"
          }
        }
      ],
      "source": [
        "out = make_nanofin_mask(rcwa_parameters, 50e-9, 150e-9)\n",
        "fig = plt.figure()\n",
        "ax = fig.add_subplot(111)\n",
        "ax.imshow(out[0])"
      ]
    },
    {
      "cell_type": "markdown",
      "metadata": {
        "id": "hm3ZILkAjEcU"
      },
      "source": [
        "Now let us combine our cell assembly function with our solve function to compute the fields."
      ]
    },
    {
      "cell_type": "code",
      "execution_count": null,
      "metadata": {
        "id": "0j27bd79jIEe"
      },
      "outputs": [],
      "source": [
        "binary_mask = make_nanofin_mask(rcwa_parameters, 50e-9, 150e-9)\n",
        "transmitted_field = rcwa_calc_field(rcwa_parameters, binary_mask)\n",
        "transmitted_field = tf.squeeze(transmitted_field)"
      ]
    },
    {
      "cell_type": "markdown",
      "metadata": {
        "id": "r_Li-e0FJWWF"
      },
      "source": [
        "It is wise to compute the reference field (simulate a cell with no structure). You can do this just like you have already done above but many common routines are built-in D$\\flat$ as they are used for more advanced architectures like the RCWA Layer. "
      ]
    },
    {
      "cell_type": "code",
      "execution_count": null,
      "metadata": {
        "id": "ai5QIx1XJVlN"
      },
      "outputs": [],
      "source": [
        "ref_field = tf.squeeze(df_physical.core.batch_solver.compute_ref_field(rcwa_parameters))\n",
        "\n",
        "relTransmission = np.abs(transmitted_field.numpy())**2/np.abs(ref_field.numpy())**2\n",
        "relPhase_delay_wrapped = np.angle(np.exp(1j*(np.angle(transmitted_field.numpy()) - np.angle(ref_field.numpy()))))"
      ]
    },
    {
      "cell_type": "code",
      "execution_count": null,
      "metadata": {
        "colab": {
          "base_uri": "https://localhost:8080/",
          "height": 300
        },
        "id": "i1tQAeaElH4P",
        "outputId": "b6ae6007-9ef7-42fa-dcde-0d5fe48133b2"
      },
      "outputs": [
        {
          "output_type": "execute_result",
          "data": {
            "text/plain": [
              "[<matplotlib.lines.Line2D at 0x7f8740087be0>,\n",
              " <matplotlib.lines.Line2D at 0x7f8740087c40>]"
            ]
          },
          "metadata": {},
          "execution_count": 11
        },
        {
          "output_type": "display_data",
          "data": {
            "text/plain": [
              "<Figure size 432x288 with 1 Axes>"
            ],
            "image/png": "[encoded data removed]"
          },
          "metadata": {
            "needs_background": "light"
          }
        }
      ],
      "source": [
        "fig = plt.figure()\n",
        "ax = fig.add_subplot(111)\n",
        "ax.plot(wavelength_set_m *1e9, relTransmission, 'k-')\n",
        "ax.plot(wavelength_set_m *1e9,relPhase_delay_wrapped, 'b-')"
      ]
    },
    {
      "cell_type": "markdown",
      "metadata": {
        "id": "ueYHxU3Elt_H"
      },
      "source": [
        "# Call gradients "
      ]
    },
    {
      "cell_type": "markdown",
      "metadata": {
        "id": "nVo_X8zGoBR2"
      },
      "source": [
        "For this example, let us just use an objective function arbitrarily defined according to the sum of transmission. This is not particularly practical for a dieletric nano-cell but you can still compute the gradients.\n",
        "\n",
        "To do this, we use the tf gradientTape method.\n",
        "\n",
        "Note that when we do this in RCWA_latent_layer, we utilize the principle of reparameterization to enforce constraints and keep the gradients stable. This is not done below to keep the tutorial simple but its important to remember. \n"
      ]
    },
    {
      "cell_type": "code",
      "execution_count": null,
      "metadata": {
        "id": "BIpjtM8nlv6W"
      },
      "outputs": [],
      "source": [
        "finx = tf.Variable(60e-9, trainable=True)\n",
        "finy = tf.Variable(160e-9, trainable=True)\n",
        "Lx, Ly = rcwa_parameters[\"Lx\"], rcwa_parameters[\"Ly\"]\n",
        "\n",
        "with tf.GradientTape() as tape:\n",
        "  # Calculation\n",
        "  binary_mask = make_nanofin_mask(rcwa_parameters, finx, finy)\n",
        "  transmitted_field = rcwa_calc_field(rcwa_parameters, binary_mask)\n",
        "  transmitted_field = tf.squeeze(transmitted_field)\n",
        "   \n",
        "  # objective function\n",
        "  energy = tf.math.reduce_sum(tf.math.abs(transmitted_field)**2)\n",
        "\n",
        "# Get gradients\n",
        "gradients = tape.gradient(energy, [finx, finy])"
      ]
    },
    {
      "cell_type": "code",
      "execution_count": null,
      "metadata": {
        "colab": {
          "base_uri": "https://localhost:8080/"
        },
        "id": "DfoZncmgoVgd",
        "outputId": "97b26f2a-9053-4fca-f6f8-6ed4b51b20d4"
      },
      "outputs": [
        {
          "output_type": "stream",
          "name": "stdout",
          "text": [
            "[<tf.Tensor: shape=(), dtype=float32, numpy=2.6016016e-26>, <tf.Tensor: shape=(), dtype=float32, numpy=5.0891512e-27>]\n"
          ]
        }
      ],
      "source": [
        "print(gradients)"
      ]
    },
    {
      "cell_type": "markdown",
      "metadata": {
        "id": "89A3VqbOqx09"
      },
      "source": [
        "# Using the RCWA_Layer"
      ]
    },
    {
      "cell_type": "markdown",
      "metadata": {
        "id": "fJcBYORfL2qY"
      },
      "source": [
        "Part of the work and utility of D$\\flat$ is enabling an easy way to test old optical front-ends with new computational backends for computational imaging researchers. Once we discover a useful set of structures or optical metasurface, we don't want to have to carry around the code ourselves to use it again later. \n",
        "\n",
        "The RCWA_Layer is a place where useful metasurface cell representations are stored and packaged. A call to the RCWA_layer will convert the input parameter to the output, relative fields. \n",
        "\n",
        "The functions to take the input parameters to cell binraries, assemble the physical structure, and pass it RCWA is packaged on the back-end for pre-coded cell types. First, let us see what types we already have in D$\\flat$.\n",
        "\n",
        "More will be added in the future but if interested, one should look at the source code for how this works. It is wise to take the make_mask function from above and just directly write/integrate it in the RCWA_Layer from the start. It saves the time of rewritting uneccesary functions. "
      ]
    },
    {
      "cell_type": "code",
      "execution_count": null,
      "metadata": {
        "colab": {
          "base_uri": "https://localhost:8080/"
        },
        "id": "MPfJPslrqy9Q",
        "outputId": "5783e862-e03e-4ac7-d023-a43507144b73"
      },
      "outputs": [
        {
          "output_type": "stream",
          "name": "stdout",
          "text": [
            "['rectangular_resonators', 'coupled_rectangular_resonators', 'cylindrical_nanoposts']\n"
          ]
        }
      ],
      "source": [
        "# Initialize RCWA_Parameters and indicate we will want 3x3 array of cells\n",
        "fourier_modes = 7\n",
        "rcwa_parameters = df_struct.rcwa_params(\n",
        "    {\n",
        "        \"wavelength_set_m\": wavelength_set_m,\n",
        "        \"thetas\": [0.0 for i in wavelength_set_m],\n",
        "        \"phis\": [0.0 for i in wavelength_set_m],\n",
        "        \"pte\": [1.0 for i in wavelength_set_m],\n",
        "        \"ptm\": [1.0 for i in wavelength_set_m],\n",
        "        \"pixelsX\": 3,\n",
        "        \"pixelsY\": 3,\n",
        "        \"PQ\": [fourier_modes, fourier_modes],\n",
        "        \"Lx\": 350e-9,\n",
        "        \"Ly\": 350e-9,\n",
        "        \"L\": [650.0e-9],\n",
        "        \"Lay_mat\": [\"Vacuum\"],\n",
        "        \"material_dielectric\": \"TiO2\",\n",
        "        \"er1\": \"SiO2\",\n",
        "        \"er2\": \"Vacuum\",\n",
        "        \"Nx\": 512,\n",
        "        \"Ny\": 512\n",
        "    }\n",
        ")\n",
        "\n",
        "# Print the list of pre-coded cell parameterizations\n",
        "df_physical.list_cell_parameterizations()"
      ]
    },
    {
      "cell_type": "markdown",
      "metadata": {
        "id": "EJ3chZs0Mqbm"
      },
      "source": [
        "The layer class is initialized by passing in the name of the cell binary function. The three above all assemble a dieletric on a single layer and you may index which of the layers it is placed on via the feature_layer=int.\n",
        "\n",
        "The shape vector size is function specific-- a cylinder only needs the radius for each cell while the nanofins need two parameters, one for length and width. You can remind yourself of the size by printing the class attribute shape_vect_size. It is always of the form (D1, PixelsX, PixelsY, D2) where D is the number of parameters to represent that cell type in our back-end assembly function. This representation may change in the future in the backend but the code and functions will be preserved."
      ]
    },
    {
      "cell_type": "code",
      "execution_count": null,
      "metadata": {
        "colab": {
          "base_uri": "https://localhost:8080/"
        },
        "id": "nHCgHaggNAew",
        "outputId": "677bbb8d-46da-44b1-f351-0b4d4fcaa4a7"
      },
      "outputs": [
        {
          "output_type": "stream",
          "name": "stdout",
          "text": [
            "ListWrapper([2, 3, 3, 1])\n"
          ]
        }
      ],
      "source": [
        "rcwa_layer = df_physical.RCWA_Layer(rcwa_parameters, \"rectangular_resonators\", feature_layer=0)\n",
        "input_size = rcwa_layer.shape_vect_size\n",
        "print(input_size)"
      ]
    },
    {
      "cell_type": "markdown",
      "metadata": {
        "id": "6v8KgPPxOV8T"
      },
      "source": [
        "A very important note is that the input parameter vector is always a normalized quantity with values between $[0, 1]$. This corresponds to a minimum and maximum span (related to a fraction of the cell size). \n",
        "\n",
        "The reason for this lies in the fact that D$\\flat$ is designed for inverse-design and optimization. If we want to add constraints to the optimization and gradient-descent scheme, it is signficantly easier to do this when we deal with normalized quantities. "
      ]
    },
    {
      "cell_type": "code",
      "execution_count": null,
      "metadata": {
        "colab": {
          "base_uri": "https://localhost:8080/"
        },
        "id": "3oazLPiPOR4x",
        "outputId": "26d6c2ab-9f75-43fd-ff13-07218de12e41"
      },
      "outputs": [
        {
          "output_type": "stream",
          "name": "stdout",
          "text": [
            "(35, 2, 3, 3) (35, 2, 3, 3)\n"
          ]
        }
      ],
      "source": [
        "vec = np.random.random(input_size)\n",
        "transmittance, phase = rcwa_layer(vec)\n",
        "print(transmittance.shape, phase.shape)"
      ]
    },
    {
      "cell_type": "code",
      "execution_count": null,
      "metadata": {
        "colab": {
          "base_uri": "https://localhost:8080/",
          "height": 483
        },
        "id": "mClIUtxZPDdh",
        "outputId": "29e46623-95df-47d7-d819-67c346ddf7e7"
      },
      "outputs": [
        {
          "output_type": "display_data",
          "data": {
            "text/plain": [
              "<Figure size 576x576 with 9 Axes>"
            ],
            "image/png": "[encoded data removed]"
          },
          "metadata": {
            "needs_background": "light"
          }
        }
      ],
      "source": [
        "import dflat.plot_utilities as df_plt # I prefer this code wrapper for making subplots \n",
        "\n",
        "pixelsX, pixelsY = rcwa_parameters[\"pixelsX\"], rcwa_parameters[\"pixelsY\"]\n",
        "fig = plt.figure(figsize=(8,8))\n",
        "ax = df_plt.addAxis(fig,pixelsY, pixelsX)\n",
        "iter=0\n",
        "for r in range(pixelsX):\n",
        "  for c in range(pixelsY):\n",
        "    ax[iter].plot(wavelength_set_m*1e9, transmittance[:,:,r,c].numpy()**2, 'k-')\n",
        "    ax[iter].plot(wavelength_set_m*1e9, np.angle(np.exp(1j*phase[:,:,r,c].numpy())), 'b-')\n",
        "    iter+=1\n"
      ]
    }
  ],
  "metadata": {
    "accelerator": "GPU",
    "colab": {
      "collapsed_sections": [
        "89A3VqbOqx09"
      ],
      "provenance": [],
      "authorship_tag": "ABX9TyMLEqNPsSNVFIkQwYUkNW+P",
      "include_colab_link": true
    },
    "gpuClass": "standard",
    "kernelspec": {
      "display_name": "Python 3",
      "name": "python3"
    },
    "language_info": {
      "name": "python"
    }
  },
  "nbformat": 4,
  "nbformat_minor": 0
}