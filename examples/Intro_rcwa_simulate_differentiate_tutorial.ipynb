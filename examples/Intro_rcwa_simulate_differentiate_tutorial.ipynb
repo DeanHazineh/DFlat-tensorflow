{
  "cells": [
    {
      "cell_type": "markdown",
      "metadata": {
        "colab_type": "text",
        "id": "view-in-github"
      },
      "source": [
        "<a href=\"https://colab.research.google.com/github/DeanHazineh/DFlat/blob/main/examples/Intro_rcwa_simulate_differentiate_tutorial.ipynb\" target=\"_parent\"><img src=\"https://colab.research.google.com/assets/colab-badge.svg\" alt=\"Open In Colab\"/></a>"
      ]
    },
    {
      "cell_type": "markdown",
      "metadata": {
        "id": "rfCYro4LcJON"
      },
      "source": [
        "This script provides a simple example for how to use the RCWA solver and simulate a field. We also show how to explicitly call for the gradients. \n",
        "\n",
        "This type of implementation is done in the backend of the rcwa_layer calls but it is certainly useful to know how to implement your own version for exploring new studies "
      ]
    },
    {
      "cell_type": "markdown",
      "metadata": {
        "id": "jXGI4E7AapA4"
      },
      "source": [
        "# Clone D$\\flat$ Repository and Install"
      ]
    },
    {
      "cell_type": "markdown",
      "metadata": {
        "id": "KIsBRhoBb4uB"
      },
      "source": [
        "DFlat is a relatively large package as it contains raw data files for nanocell libraries and pre-trained neural models. It may take a few minutes to download"
      ]
    },
    {
      "cell_type": "code",
      "execution_count": 1,
      "metadata": {
        "colab": {
          "base_uri": "https://localhost:8080/"
        },
        "id": "hczCAsiNad-G",
        "outputId": "9df26ab1-c51c-4846-851f-19853e3a5b44"
      },
      "outputs": [
        {
          "name": "stdout",
          "output_type": "stream",
          "text": [
            "Error: Failed to call git rev-parse --git-dir: exit status 128 \n",
            "Git LFS initialized.\n",
            "Cloning into 'DFlat'...\n",
            "remote: Enumerating objects: 2773, done.\u001b[K\n",
            "remote: Counting objects: 100% (792/792), done.\u001b[K\n",
            "remote: Compressing objects: 100% (528/528), done.\u001b[K\n",
            "remote: Total 2773 (delta 289), reused 707 (delta 251), pack-reused 1981\u001b[K\n",
            "Receiving objects: 100% (2773/2773), 756.24 MiB | 14.72 MiB/s, done.\n",
            "Resolving deltas: 100% (869/869), done.\n",
            "Updating files: 100% (507/507), done.\n",
            "Filtering content: 100% (19/19), 77.20 MiB | 818.00 KiB/s, done.\n",
            "/content/DFlat\n",
            "running develop\n",
            "running egg_info\n",
            "creating DFlat.egg-info\n",
            "writing DFlat.egg-info/PKG-INFO\n",
            "writing dependency_links to DFlat.egg-info/dependency_links.txt\n",
            "writing top-level names to DFlat.egg-info/top_level.txt\n",
            "writing manifest file 'DFlat.egg-info/SOURCES.txt'\n",
            "reading manifest template 'MANIFEST.in'\n",
            "adding license file 'LICENSE'\n",
            "writing manifest file 'DFlat.egg-info/SOURCES.txt'\n",
            "running build_ext\n",
            "Creating /usr/local/lib/python3.8/dist-packages/DFlat.egg-link (link to .)\n",
            "Adding DFlat 2.3.0 to easy-install.pth file\n",
            "\n",
            "Installed /content/DFlat\n",
            "Processing dependencies for DFlat==2.3.0\n",
            "Finished processing dependencies for DFlat==2.3.0\n"
          ]
        }
      ],
      "source": [
        "!git lfs install\n",
        "!git clone https://github.com/DeanHazineh/DFlat\n",
        "\n",
        "%cd /content/DFlat\n",
        "!python setup.py develop"
      ]
    },
    {
      "cell_type": "code",
      "execution_count": 2,
      "metadata": {
        "colab": {
          "base_uri": "https://localhost:8080/"
        },
        "id": "KmbTxkWMamzz",
        "outputId": "ccfd0ae9-1016-456b-9b16-d7c256bab66f"
      },
      "outputs": [
        {
          "name": "stdout",
          "output_type": "stream",
          "text": [
            "Looking in indexes: https://pypi.org/simple, https://us-python.pkg.dev/colab-wheels/public/simple/\n",
            "Requirement already satisfied: numpy in /usr/local/lib/python3.8/dist-packages (from -r requirements.txt (line 1)) (1.21.6)\n",
            "Collecting tensorflow_gpu==2.11.0\n",
            "  Downloading tensorflow_gpu-2.11.0-cp38-cp38-manylinux_2_17_x86_64.manylinux2014_x86_64.whl (588.3 MB)\n",
            "\u001b[2K     \u001b[90m━━━━━━━━━━━━━━━━━━━━━━━━━━━━━━━━━━━━━━━\u001b[0m \u001b[32m588.3/588.3 MB\u001b[0m \u001b[31m2.7 MB/s\u001b[0m eta \u001b[36m0:00:00\u001b[0m\n",
            "\u001b[?25hRequirement already satisfied: tensorflow_probability in /usr/local/lib/python3.8/dist-packages (from -r requirements.txt (line 3)) (0.17.0)\n",
            "Requirement already satisfied: matplotlib in /usr/local/lib/python3.8/dist-packages (from -r requirements.txt (line 4)) (3.2.2)\n",
            "Requirement already satisfied: scipy in /usr/local/lib/python3.8/dist-packages (from -r requirements.txt (line 5)) (1.7.3)\n",
            "Collecting keras_flops\n",
            "  Downloading keras_flops-0.1.2-py3-none-any.whl (5.3 kB)\n",
            "Collecting sklearn\n",
            "  Downloading sklearn-0.0.post1.tar.gz (3.6 kB)\n",
            "  Preparing metadata (setup.py) ... \u001b[?25l\u001b[?25hdone\n",
            "Collecting mat73\n",
            "  Downloading mat73-0.59-py3-none-any.whl (19 kB)\n",
            "Requirement already satisfied: opencv-python in /usr/local/lib/python3.8/dist-packages (from -r requirements.txt (line 9)) (4.6.0.66)\n",
            "Requirement already satisfied: pandas in /usr/local/lib/python3.8/dist-packages (from -r requirements.txt (line 10)) (1.3.5)\n",
            "Collecting gdspy\n",
            "  Downloading gdspy-1.6.12.zip (157 kB)\n",
            "\u001b[2K     \u001b[90m━━━━━━━━━━━━━━━━━━━━━━━━━━━━━━━━━━━━━━\u001b[0m \u001b[32m157.7/157.7 KB\u001b[0m \u001b[31m20.2 MB/s\u001b[0m eta \u001b[36m0:00:00\u001b[0m\n",
            "\u001b[?25h  Preparing metadata (setup.py) ... \u001b[?25l\u001b[?25hdone\n",
            "Requirement already satisfied: imageio in /usr/local/lib/python3.8/dist-packages (from -r requirements.txt (line 12)) (2.9.0)\n",
            "Requirement already satisfied: tqdm in /usr/local/lib/python3.8/dist-packages (from -r requirements.txt (line 13)) (4.64.1)\n",
            "Requirement already satisfied: protobuf<3.20,>=3.9.2 in /usr/local/lib/python3.8/dist-packages (from tensorflow_gpu==2.11.0->-r requirements.txt (line 2)) (3.19.6)\n",
            "Requirement already satisfied: tensorflow-io-gcs-filesystem>=0.23.1 in /usr/local/lib/python3.8/dist-packages (from tensorflow_gpu==2.11.0->-r requirements.txt (line 2)) (0.29.0)\n",
            "Requirement already satisfied: grpcio<2.0,>=1.24.3 in /usr/local/lib/python3.8/dist-packages (from tensorflow_gpu==2.11.0->-r requirements.txt (line 2)) (1.51.1)\n",
            "Requirement already satisfied: google-pasta>=0.1.1 in /usr/local/lib/python3.8/dist-packages (from tensorflow_gpu==2.11.0->-r requirements.txt (line 2)) (0.2.0)\n",
            "Requirement already satisfied: gast<=0.4.0,>=0.2.1 in /usr/local/lib/python3.8/dist-packages (from tensorflow_gpu==2.11.0->-r requirements.txt (line 2)) (0.4.0)\n",
            "Requirement already satisfied: h5py>=2.9.0 in /usr/local/lib/python3.8/dist-packages (from tensorflow_gpu==2.11.0->-r requirements.txt (line 2)) (3.1.0)\n",
            "Collecting flatbuffers>=2.0\n",
            "  Downloading flatbuffers-23.1.21-py2.py3-none-any.whl (26 kB)\n",
            "Requirement already satisfied: packaging in /usr/local/lib/python3.8/dist-packages (from tensorflow_gpu==2.11.0->-r requirements.txt (line 2)) (21.3)\n",
            "Requirement already satisfied: wrapt>=1.11.0 in /usr/local/lib/python3.8/dist-packages (from tensorflow_gpu==2.11.0->-r requirements.txt (line 2)) (1.14.1)\n",
            "Requirement already satisfied: opt-einsum>=2.3.2 in /usr/local/lib/python3.8/dist-packages (from tensorflow_gpu==2.11.0->-r requirements.txt (line 2)) (3.3.0)\n",
            "Requirement already satisfied: termcolor>=1.1.0 in /usr/local/lib/python3.8/dist-packages (from tensorflow_gpu==2.11.0->-r requirements.txt (line 2)) (2.2.0)\n",
            "Requirement already satisfied: astunparse>=1.6.0 in /usr/local/lib/python3.8/dist-packages (from tensorflow_gpu==2.11.0->-r requirements.txt (line 2)) (1.6.3)\n",
            "Collecting tensorboard<2.12,>=2.11\n",
            "  Downloading tensorboard-2.11.2-py3-none-any.whl (6.0 MB)\n",
            "\u001b[2K     \u001b[90m━━━━━━━━━━━━━━━━━━━━━━━━━━━━━━━━━━━━━━━━\u001b[0m \u001b[32m6.0/6.0 MB\u001b[0m \u001b[31m113.4 MB/s\u001b[0m eta \u001b[36m0:00:00\u001b[0m\n",
            "\u001b[?25hCollecting tensorflow-estimator<2.12,>=2.11.0\n",
            "  Downloading tensorflow_estimator-2.11.0-py2.py3-none-any.whl (439 kB)\n",
            "\u001b[2K     \u001b[90m━━━━━━━━━━━━━━━━━━━━━━━━━━━━━━━━━━━━━━\u001b[0m \u001b[32m439.2/439.2 KB\u001b[0m \u001b[31m42.7 MB/s\u001b[0m eta \u001b[36m0:00:00\u001b[0m\n",
            "\u001b[?25hRequirement already satisfied: libclang>=13.0.0 in /usr/local/lib/python3.8/dist-packages (from tensorflow_gpu==2.11.0->-r requirements.txt (line 2)) (15.0.6.1)\n",
            "Collecting keras<2.12,>=2.11.0\n",
            "  Downloading keras-2.11.0-py2.py3-none-any.whl (1.7 MB)\n",
            "\u001b[2K     \u001b[90m━━━━━━━━━━━━━━━━━━━━━━━━━━━━━━━━━━━━━━━━\u001b[0m \u001b[32m1.7/1.7 MB\u001b[0m \u001b[31m55.3 MB/s\u001b[0m eta \u001b[36m0:00:00\u001b[0m\n",
            "\u001b[?25hRequirement already satisfied: absl-py>=1.0.0 in /usr/local/lib/python3.8/dist-packages (from tensorflow_gpu==2.11.0->-r requirements.txt (line 2)) (1.3.0)\n",
            "Requirement already satisfied: typing-extensions>=3.6.6 in /usr/local/lib/python3.8/dist-packages (from tensorflow_gpu==2.11.0->-r requirements.txt (line 2)) (4.4.0)\n",
            "Requirement already satisfied: setuptools in /usr/local/lib/python3.8/dist-packages (from tensorflow_gpu==2.11.0->-r requirements.txt (line 2)) (57.4.0)\n",
            "Requirement already satisfied: six>=1.12.0 in /usr/local/lib/python3.8/dist-packages (from tensorflow_gpu==2.11.0->-r requirements.txt (line 2)) (1.15.0)\n",
            "Requirement already satisfied: dm-tree in /usr/local/lib/python3.8/dist-packages (from tensorflow_probability->-r requirements.txt (line 3)) (0.1.8)\n",
            "Requirement already satisfied: decorator in /usr/local/lib/python3.8/dist-packages (from tensorflow_probability->-r requirements.txt (line 3)) (4.4.2)\n",
            "Requirement already satisfied: cloudpickle>=1.3 in /usr/local/lib/python3.8/dist-packages (from tensorflow_probability->-r requirements.txt (line 3)) (2.2.0)\n",
            "Requirement already satisfied: kiwisolver>=1.0.1 in /usr/local/lib/python3.8/dist-packages (from matplotlib->-r requirements.txt (line 4)) (1.4.4)\n",
            "Requirement already satisfied: cycler>=0.10 in /usr/local/lib/python3.8/dist-packages (from matplotlib->-r requirements.txt (line 4)) (0.11.0)\n",
            "Requirement already satisfied: python-dateutil>=2.1 in /usr/local/lib/python3.8/dist-packages (from matplotlib->-r requirements.txt (line 4)) (2.8.2)\n",
            "Requirement already satisfied: pyparsing!=2.0.4,!=2.1.2,!=2.1.6,>=2.0.1 in /usr/local/lib/python3.8/dist-packages (from matplotlib->-r requirements.txt (line 4)) (3.0.9)\n",
            "Requirement already satisfied: tensorflow<3.0,>=2.2 in /usr/local/lib/python3.8/dist-packages (from keras_flops->-r requirements.txt (line 6)) (2.9.2)\n",
            "Requirement already satisfied: pytz>=2017.3 in /usr/local/lib/python3.8/dist-packages (from pandas->-r requirements.txt (line 10)) (2022.7)\n",
            "Requirement already satisfied: pillow in /usr/local/lib/python3.8/dist-packages (from imageio->-r requirements.txt (line 12)) (7.1.2)\n",
            "Requirement already satisfied: wheel<1.0,>=0.23.0 in /usr/local/lib/python3.8/dist-packages (from astunparse>=1.6.0->tensorflow_gpu==2.11.0->-r requirements.txt (line 2)) (0.38.4)\n",
            "Requirement already satisfied: tensorboard-plugin-wit>=1.6.0 in /usr/local/lib/python3.8/dist-packages (from tensorboard<2.12,>=2.11->tensorflow_gpu==2.11.0->-r requirements.txt (line 2)) (1.8.1)\n",
            "Requirement already satisfied: google-auth-oauthlib<0.5,>=0.4.1 in /usr/local/lib/python3.8/dist-packages (from tensorboard<2.12,>=2.11->tensorflow_gpu==2.11.0->-r requirements.txt (line 2)) (0.4.6)\n",
            "Requirement already satisfied: google-auth<3,>=1.6.3 in /usr/local/lib/python3.8/dist-packages (from tensorboard<2.12,>=2.11->tensorflow_gpu==2.11.0->-r requirements.txt (line 2)) (2.16.0)\n",
            "Requirement already satisfied: werkzeug>=1.0.1 in /usr/local/lib/python3.8/dist-packages (from tensorboard<2.12,>=2.11->tensorflow_gpu==2.11.0->-r requirements.txt (line 2)) (1.0.1)\n",
            "Requirement already satisfied: requests<3,>=2.21.0 in /usr/local/lib/python3.8/dist-packages (from tensorboard<2.12,>=2.11->tensorflow_gpu==2.11.0->-r requirements.txt (line 2)) (2.25.1)\n",
            "Requirement already satisfied: tensorboard-data-server<0.7.0,>=0.6.0 in /usr/local/lib/python3.8/dist-packages (from tensorboard<2.12,>=2.11->tensorflow_gpu==2.11.0->-r requirements.txt (line 2)) (0.6.1)\n",
            "Requirement already satisfied: markdown>=2.6.8 in /usr/local/lib/python3.8/dist-packages (from tensorboard<2.12,>=2.11->tensorflow_gpu==2.11.0->-r requirements.txt (line 2)) (3.4.1)\n",
            "Collecting tensorflow<3.0,>=2.2\n",
            "  Downloading tensorflow-2.11.0-cp38-cp38-manylinux_2_17_x86_64.manylinux2014_x86_64.whl (588.3 MB)\n",
            "\u001b[2K     \u001b[90m━━━━━━━━━━━━━━━━━━━━━━━━━━━━━━━━━━━━━━━\u001b[0m \u001b[32m588.3/588.3 MB\u001b[0m \u001b[31m3.0 MB/s\u001b[0m eta \u001b[36m0:00:00\u001b[0m\n",
            "\u001b[?25hRequirement already satisfied: cachetools<6.0,>=2.0.0 in /usr/local/lib/python3.8/dist-packages (from google-auth<3,>=1.6.3->tensorboard<2.12,>=2.11->tensorflow_gpu==2.11.0->-r requirements.txt (line 2)) (5.2.1)\n",
            "Requirement already satisfied: rsa<5,>=3.1.4 in /usr/local/lib/python3.8/dist-packages (from google-auth<3,>=1.6.3->tensorboard<2.12,>=2.11->tensorflow_gpu==2.11.0->-r requirements.txt (line 2)) (4.9)\n",
            "Requirement already satisfied: pyasn1-modules>=0.2.1 in /usr/local/lib/python3.8/dist-packages (from google-auth<3,>=1.6.3->tensorboard<2.12,>=2.11->tensorflow_gpu==2.11.0->-r requirements.txt (line 2)) (0.2.8)\n",
            "Requirement already satisfied: requests-oauthlib>=0.7.0 in /usr/local/lib/python3.8/dist-packages (from google-auth-oauthlib<0.5,>=0.4.1->tensorboard<2.12,>=2.11->tensorflow_gpu==2.11.0->-r requirements.txt (line 2)) (1.3.1)\n",
            "Requirement already satisfied: importlib-metadata>=4.4 in /usr/local/lib/python3.8/dist-packages (from markdown>=2.6.8->tensorboard<2.12,>=2.11->tensorflow_gpu==2.11.0->-r requirements.txt (line 2)) (6.0.0)\n",
            "Requirement already satisfied: chardet<5,>=3.0.2 in /usr/local/lib/python3.8/dist-packages (from requests<3,>=2.21.0->tensorboard<2.12,>=2.11->tensorflow_gpu==2.11.0->-r requirements.txt (line 2)) (4.0.0)\n",
            "Requirement already satisfied: urllib3<1.27,>=1.21.1 in /usr/local/lib/python3.8/dist-packages (from requests<3,>=2.21.0->tensorboard<2.12,>=2.11->tensorflow_gpu==2.11.0->-r requirements.txt (line 2)) (1.24.3)\n",
            "Requirement already satisfied: idna<3,>=2.5 in /usr/local/lib/python3.8/dist-packages (from requests<3,>=2.21.0->tensorboard<2.12,>=2.11->tensorflow_gpu==2.11.0->-r requirements.txt (line 2)) (2.10)\n",
            "Requirement already satisfied: certifi>=2017.4.17 in /usr/local/lib/python3.8/dist-packages (from requests<3,>=2.21.0->tensorboard<2.12,>=2.11->tensorflow_gpu==2.11.0->-r requirements.txt (line 2)) (2022.12.7)\n",
            "Requirement already satisfied: zipp>=0.5 in /usr/local/lib/python3.8/dist-packages (from importlib-metadata>=4.4->markdown>=2.6.8->tensorboard<2.12,>=2.11->tensorflow_gpu==2.11.0->-r requirements.txt (line 2)) (3.11.0)\n",
            "Requirement already satisfied: pyasn1<0.5.0,>=0.4.6 in /usr/local/lib/python3.8/dist-packages (from pyasn1-modules>=0.2.1->google-auth<3,>=1.6.3->tensorboard<2.12,>=2.11->tensorflow_gpu==2.11.0->-r requirements.txt (line 2)) (0.4.8)\n",
            "Requirement already satisfied: oauthlib>=3.0.0 in /usr/local/lib/python3.8/dist-packages (from requests-oauthlib>=0.7.0->google-auth-oauthlib<0.5,>=0.4.1->tensorboard<2.12,>=2.11->tensorflow_gpu==2.11.0->-r requirements.txt (line 2)) (3.2.2)\n",
            "Building wheels for collected packages: sklearn, gdspy\n",
            "  Building wheel for sklearn (setup.py) ... \u001b[?25l\u001b[?25hdone\n",
            "  Created wheel for sklearn: filename=sklearn-0.0.post1-py3-none-any.whl size=2344 sha256=78ccffd7422965e52d71450ba2509a604d9bfb2dbf283633fe1069156761a924\n",
            "  Stored in directory: /root/.cache/pip/wheels/14/25/f7/1cc0956978ae479e75140219088deb7a36f60459df242b1a72\n",
            "  Building wheel for gdspy (setup.py) ... \u001b[?25l\u001b[?25hdone\n",
            "  Created wheel for gdspy: filename=gdspy-1.6.12-cp38-cp38-linux_x86_64.whl size=597242 sha256=36dd2f1d4820a0043ad6a5a536481edee86ba92ec3444c2d7243c20e8b58478f\n",
            "  Stored in directory: /root/.cache/pip/wheels/03/ed/d5/f89483da9ebf5b67e58ba967e19132ae7703a6409727790445\n",
            "Successfully built sklearn gdspy\n",
            "Installing collected packages: sklearn, flatbuffers, tensorflow-estimator, keras, gdspy, mat73, tensorboard, tensorflow_gpu, tensorflow, keras_flops\n",
            "  Attempting uninstall: flatbuffers\n",
            "    Found existing installation: flatbuffers 1.12\n",
            "    Uninstalling flatbuffers-1.12:\n",
            "      Successfully uninstalled flatbuffers-1.12\n",
            "  Attempting uninstall: tensorflow-estimator\n",
            "    Found existing installation: tensorflow-estimator 2.9.0\n",
            "    Uninstalling tensorflow-estimator-2.9.0:\n",
            "      Successfully uninstalled tensorflow-estimator-2.9.0\n",
            "  Attempting uninstall: keras\n",
            "    Found existing installation: keras 2.9.0\n",
            "    Uninstalling keras-2.9.0:\n",
            "      Successfully uninstalled keras-2.9.0\n",
            "  Attempting uninstall: tensorboard\n",
            "    Found existing installation: tensorboard 2.9.1\n",
            "    Uninstalling tensorboard-2.9.1:\n",
            "      Successfully uninstalled tensorboard-2.9.1\n",
            "  Attempting uninstall: tensorflow\n",
            "    Found existing installation: tensorflow 2.9.2\n",
            "    Uninstalling tensorflow-2.9.2:\n",
            "      Successfully uninstalled tensorflow-2.9.2\n",
            "Successfully installed flatbuffers-23.1.21 gdspy-1.6.12 keras-2.11.0 keras_flops-0.1.2 mat73-0.59 sklearn-0.0.post1 tensorboard-2.11.2 tensorflow-2.11.0 tensorflow-estimator-2.11.0 tensorflow_gpu-2.11.0\n"
          ]
        }
      ],
      "source": [
        "pip install -r requirements.txt"
      ]
    },
    {
      "cell_type": "markdown",
      "metadata": {
        "id": "1ig0YnVAfZkI"
      },
      "source": [
        "# Run a RCWA Simulation"
      ]
    },
    {
      "cell_type": "code",
      "execution_count": 19,
      "metadata": {
        "id": "6JCWmLDYfcVq"
      },
      "outputs": [],
      "source": [
        "import numpy as np\n",
        "import tensorflow as tf\n",
        "import matplotlib.pyplot as plt\n",
        "\n",
        "import dflat.physical_optical_layer as df_physical\n",
        "import dflat.data_structure as df_struct"
      ]
    },
    {
      "cell_type": "markdown",
      "metadata": {
        "id": "oqI5LYUnfsMB"
      },
      "source": [
        "To run a simulation, first we need to create the RCWA solver paramters object. Here, you specify the material used and the params object will internally grab and store the broadband, complex refractive index into its class attributes. \n",
        "\n",
        "You can specify a material from the list below or you can pass in a complex, float instead. "
      ]
    },
    {
      "cell_type": "code",
      "execution_count": 20,
      "metadata": {
        "colab": {
          "base_uri": "https://localhost:8080/"
        },
        "id": "yVWmBAayfjvd",
        "outputId": "eed59352-1907-44c6-bc83-26de23af718e"
      },
      "outputs": [
        {
          "data": {
            "text/plain": [
              "['TiO2', 'SiO2', 'Vacuum', 'Si', 'Si3N4']"
            ]
          },
          "execution_count": 20,
          "metadata": {},
          "output_type": "execute_result"
        }
      ],
      "source": [
        "df_physical.list_materials()"
      ]
    },
    {
      "cell_type": "code",
      "execution_count": 21,
      "metadata": {
        "id": "8h6XpeIefmo0"
      },
      "outputs": [],
      "source": [
        "wavelength_set_m = np.arange(400e-9, 750e-9, 10e-9)\n",
        "fourier_modes = 7\n",
        "rcwa_parameters = df_struct.rcwa_params(\n",
        "    {\n",
        "        \"wavelength_set_m\": wavelength_set_m,\n",
        "        \"thetas\": [0.0 for i in wavelength_set_m],\n",
        "        \"phis\": [0.0 for i in wavelength_set_m],\n",
        "        \"pte\": [1.0 for i in wavelength_set_m],\n",
        "        \"ptm\": [1.0 for i in wavelength_set_m],\n",
        "        \"pixelsX\": 1,\n",
        "        \"pixelsY\": 1,\n",
        "        \"PQ\": [fourier_modes, fourier_modes],\n",
        "        \"Lx\": 350e-9,\n",
        "        \"Ly\": 350e-9,\n",
        "        \"L\": [650.0e-9],\n",
        "        \"Lay_mat\": [\"Vacuum\"],\n",
        "        \"material_dielectric\": \"TiO2\",\n",
        "        \"er1\": \"SiO2\",\n",
        "        \"er2\": \"Vacuum\",\n",
        "        \"Nx\": 512,\n",
        "        \"Ny\": 512\n",
        "    }\n",
        ")"
      ]
    },
    {
      "cell_type": "markdown",
      "metadata": {
        "id": "iVYLE6_hgpH7"
      },
      "source": [
        "Now, let us write our own solver function from scratch. The goal is that we may pass in the rcwa_parameters and a binary_mask representing the nanostructure on the cell. This function can then inject the correct permittivity values and call the rcwa_solver.  \n",
        "\n",
        "In this example I am only simulating a single layer but I have written the function with an open mind to enable multi-layer with minimal modification (it is a good practice to do so!)"
      ]
    },
    {
      "cell_type": "code",
      "execution_count": 22,
      "metadata": {
        "id": "FSGJrjXYgZxF"
      },
      "outputs": [],
      "source": [
        "def rcwa_calc_field(rcwa_parameters, binary_mask):\n",
        "    ###\n",
        "    batchSize = rcwa_parameters[\"batchSize\"]\n",
        "    pixelsX = rcwa_parameters[\"pixelsX\"]\n",
        "    pixelsY = rcwa_parameters[\"pixelsY\"]\n",
        "    Nx = rcwa_parameters[\"Nx\"]\n",
        "    Ny = rcwa_parameters[\"Ny\"]\n",
        "    Nlay = rcwa_parameters[\"Nlay\"]\n",
        "    dtype = rcwa_parameters[\"dtype\"]\n",
        "    cdtype = rcwa_parameters[\"cdtype\"]\n",
        "\n",
        "    materials_shape = (batchSize, pixelsX, pixelsY, Nlay, Nx, Ny)\n",
        "    PQ_zero = tf.math.reduce_prod(rcwa_parameters[\"PQ\"]) // 2\n",
        "    lay_eps_list = rcwa_parameters[\"lay_eps_list\"]\n",
        "\n",
        "    # Assemble cell\n",
        "    binary = tf.complex(tf.cast(binary_mask, dtype=dtype), tf.cast(0.0, dtype=dtype))\n",
        "    UR = rcwa_parameters[\"urd\"] * tf.ones(materials_shape, dtype=cdtype)\n",
        "    ER_list = []\n",
        "    for i, lay_eps in enumerate(lay_eps_list):\n",
        "        ER_list.append(lay_eps_list[i] + (rcwa_parameters[\"erd\"] - lay_eps_list[i]) * binary[i])\n",
        "    ER = tf.concat(values=ER_list, axis=3)\n",
        "\n",
        "    ## Call Simulation\n",
        "    outputs = df_physical.simulate(ER, UR, rcwa_parameters)\n",
        "    tx = outputs[\"tx\"][:, :, :, PQ_zero, 0] # Get the zero order field by PQ_zero\n",
        "    ty = outputs[\"ty\"][:, :, :, PQ_zero, 0] \n",
        "    field = tf.expand_dims(tf.transpose(tf.stack((tx, ty))), 0)\n",
        "\n",
        "    return field"
      ]
    },
    {
      "cell_type": "markdown",
      "metadata": {
        "id": "wFnipCDehYQ1"
      },
      "source": [
        "Now let us define a simple cell structure and ideally assemble the structure in a way that is differentiable. Then we can obtain gradients later. "
      ]
    },
    {
      "cell_type": "code",
      "execution_count": 23,
      "metadata": {
        "id": "UJxdWlT4hh5Q"
      },
      "outputs": [],
      "source": [
        "def make_nanofin_mask(rcwa_parameters, finx, finy):\n",
        "  # Create a grid\n",
        "  Nx, Ny = rcwa_parameters[\"Nx\"], rcwa_parameters[\"Ny\"]\n",
        "  Lx, Ly = rcwa_parameters[\"Lx\"], rcwa_parameters[\"Ly\"]\n",
        "  xx, yy = np.meshgrid(np.linspace(-Lx/2, Lx/2, Nx), np.linspace(-Ly/2, Ly/2, Ny))\n",
        "\n",
        "  power_exp = 50\n",
        "  sigmoid_coeff=1000\n",
        "  mask = 1 - tf.math.abs(xx * 2 / finx) ** power_exp - tf.math.abs(yy * 2 / finy) ** power_exp\n",
        "  mask = tf.math.sigmoid(sigmoid_coeff * mask)\n",
        "\n",
        "  return tf.expand_dims(mask,0)"
      ]
    },
    {
      "cell_type": "code",
      "execution_count": 24,
      "metadata": {
        "colab": {
          "base_uri": "https://localhost:8080/",
          "height": 286
        },
        "id": "ILHye93sivPd",
        "outputId": "767a7990-e96f-4fc7-a93b-c63db033c898"
      },
      "outputs": [
        {
          "data": {
            "text/plain": [
              "<matplotlib.image.AxesImage at 0x225689d7be0>"
            ]
          },
          "execution_count": 24,
          "metadata": {},
          "output_type": "execute_result"
        },
        {
          "data": {
            "image/png": "[encoded data removed]",
            "text/plain": [
              "<Figure size 640x480 with 1 Axes>"
            ]
          },
          "metadata": {},
          "output_type": "display_data"
        }
      ],
      "source": [
        "out = make_nanofin_mask(rcwa_parameters, 50e-9, 150e-9)\n",
        "fig = plt.figure()\n",
        "ax = fig.add_subplot(111)\n",
        "ax.imshow(out[0])"
      ]
    },
    {
      "cell_type": "markdown",
      "metadata": {
        "id": "hm3ZILkAjEcU"
      },
      "source": [
        "Now let us combine our cell assembly function with our solve function to compute the fields"
      ]
    },
    {
      "cell_type": "code",
      "execution_count": 30,
      "metadata": {
        "id": "0j27bd79jIEe"
      },
      "outputs": [
        {
          "name": "stdout",
          "output_type": "stream",
          "text": [
            "(35, 2)\n"
          ]
        }
      ],
      "source": [
        "binary_mask = make_nanofin_mask(rcwa_parameters, 50e-9, 150e-9)\n",
        "transmitted_field = rcwa_calc_field(rcwa_parameters, binary_mask)\n",
        "transmitted_field = tf.squeeze(transmitted_field)"
      ]
    },
    {
      "cell_type": "code",
      "execution_count": 26,
      "metadata": {
        "colab": {
          "base_uri": "https://localhost:8080/",
          "height": 300
        },
        "id": "i1tQAeaElH4P",
        "outputId": "37d487d7-1f71-4674-a39d-314dbe1ff78f"
      },
      "outputs": [
        {
          "data": {
            "text/plain": [
              "[<matplotlib.lines.Line2D at 0x22567ea3340>,\n",
              " <matplotlib.lines.Line2D at 0x22567ea3430>]"
            ]
          },
          "execution_count": 26,
          "metadata": {},
          "output_type": "execute_result"
        },
        {
          "data": {
            "image/png": "[encoded data removed]",
            "text/plain": [
              "<Figure size 640x480 with 1 Axes>"
            ]
          },
          "metadata": {},
          "output_type": "display_data"
        }
      ],
      "source": [
        "fig = plt.figure()\n",
        "ax = fig.add_subplot(111)\n",
        "ax.plot(wavelength_set_m *1e9, np.abs(transmitted_field.numpy()), 'k-')\n",
        "ax.plot(wavelength_set_m *1e9, np.angle(transmitted_field.numpy()), 'b-')"
      ]
    },
    {
      "cell_type": "markdown",
      "metadata": {
        "id": "ueYHxU3Elt_H"
      },
      "source": [
        "# Call gradients "
      ]
    },
    {
      "cell_type": "markdown",
      "metadata": {
        "id": "nVo_X8zGoBR2"
      },
      "source": [
        "For this example, let us just use an objective function arbitrarily defined according to the sum of transmission. This is not particularly practical for a dieletric nano-cell but you can still compute the gradients.\n",
        "\n",
        "To do this, we use the tf gradientTape method"
      ]
    },
    {
      "cell_type": "code",
      "execution_count": 27,
      "metadata": {
        "id": "BIpjtM8nlv6W"
      },
      "outputs": [],
      "source": [
        "finx = tf.Variable(60e-9, trainable=True)\n",
        "finy = tf.Variable(160e-9, trainable=True)\n",
        "Lx, Ly = rcwa_parameters[\"Lx\"], rcwa_parameters[\"Ly\"]\n",
        "\n",
        "with tf.GradientTape() as tape:\n",
        "  # Calculation\n",
        "  binary_mask = make_nanofin_mask(rcwa_parameters, finx, finy)\n",
        "  transmitted_field = rcwa_calc_field(rcwa_parameters, binary_mask)\n",
        "  transmitted_field = tf.squeeze(transmitted_field)\n",
        "   \n",
        "  # objective function\n",
        "  energy = tf.math.reduce_sum(tf.math.abs(transmitted_field)**2)\n",
        "\n",
        "# Get gradients\n",
        "gradients = tape.gradient(energy, [finx, finy])"
      ]
    },
    {
      "cell_type": "code",
      "execution_count": 28,
      "metadata": {
        "colab": {
          "base_uri": "https://localhost:8080/"
        },
        "id": "DfoZncmgoVgd",
        "outputId": "20fc086c-3135-4d0d-fa38-d956bf07b7e2"
      },
      "outputs": [
        {
          "name": "stdout",
          "output_type": "stream",
          "text": [
            "[<tf.Tensor: shape=(), dtype=float32, numpy=3.4431615e-26>, <tf.Tensor: shape=(), dtype=float32, numpy=6.735379e-27>]\n"
          ]
        }
      ],
      "source": [
        "print(gradients)"
      ]
    },
    {
      "attachments": {},
      "cell_type": "markdown",
      "metadata": {},
      "source": [
        "# RCWA Layer"
      ]
    },
    {
      "cell_type": "markdown",
      "metadata": {},
      "source": []
    },
    {
      "cell_type": "code",
      "execution_count": 31,
      "metadata": {},
      "outputs": [
        {
          "name": "stdout",
          "output_type": "stream",
          "text": [
            "['rectangular_resonator', 'coupled_rectangular_resonator', 'cylindrical_nanopost']\n"
          ]
        }
      ],
      "source": [
        "df_physical.list_cell_parameterizations()"
      ]
    },
    {
      "cell_type": "code",
      "execution_count": 33,
      "metadata": {},
      "outputs": [
        {
          "name": "stdout",
          "output_type": "stream",
          "text": [
            "ListWrapper([2, 1, 1, 1])\n"
          ]
        }
      ],
      "source": [
        "rcwa_layer = df_physical.RCWA_Layer(rcwa_parameters, \"rectangular_resonator\")\n",
        "print(rcwa_layer.shape_vect_size)"
      ]
    },
    {
      "cell_type": "code",
      "execution_count": null,
      "metadata": {},
      "outputs": [],
      "source": []
    }
  ],
  "metadata": {
    "accelerator": "GPU",
    "colab": {
      "authorship_tag": "ABX9TyNGZ79ZYSiFS7C1kFQAmfln",
      "collapsed_sections": [
        "jXGI4E7AapA4"
      ],
      "include_colab_link": true,
      "provenance": []
    },
    "gpuClass": "standard",
    "kernelspec": {
      "display_name": "DFlat",
      "language": "python",
      "name": "python3"
    },
    "language_info": {
      "codemirror_mode": {
        "name": "ipython",
        "version": 3
      },
      "file_extension": ".py",
      "mimetype": "text/x-python",
      "name": "python",
      "nbconvert_exporter": "python",
      "pygments_lexer": "ipython3",
      "version": "3.10.6"
    },
    "vscode": {
      "interpreter": {
        "hash": "d8d50f4328510eabe0b37a8b0f5623dee52068ee73db7fc590b4bc4b6f974454"
      }
    }
  },
  "nbformat": 4,
  "nbformat_minor": 0
}
